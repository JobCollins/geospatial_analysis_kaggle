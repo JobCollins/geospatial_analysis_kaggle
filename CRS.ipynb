{
 "cells": [
  {
   "cell_type": "markdown",
   "id": "3b918784-040b-4cee-ab18-6804fe7e7e1e",
   "metadata": {},
   "source": [
    "## Setting CRS"
   ]
  },
  {
   "cell_type": "code",
   "execution_count": 4,
   "id": "a4f684da-6c7a-40ea-88b1-f1a8860a4553",
   "metadata": {},
   "outputs": [],
   "source": [
    "import geopandas as gpd\n",
    "import pandas as pd"
   ]
  },
  {
   "cell_type": "code",
   "execution_count": 2,
   "id": "0b540246-5529-48c1-8037-207493c1e8ad",
   "metadata": {},
   "outputs": [
    {
     "name": "stdout",
     "output_type": "stream",
     "text": [
      "epsg:32630\n"
     ]
    }
   ],
   "source": [
    "regions = gpd.read_file(\"../geospatial_kaggle/ghana/ghana/Regions/Map_of_Regions_in_Ghana.shp\")\n",
    "print(regions.crs)"
   ]
  },
  {
   "cell_type": "code",
   "execution_count": 5,
   "id": "e06806b2-64ed-445e-855e-689cc5132b97",
   "metadata": {},
   "outputs": [
    {
     "name": "stderr",
     "output_type": "stream",
     "text": [
      "/Users/jobdulo/opt/anaconda3/envs/gis_env/lib/python3.8/site-packages/pyproj/crs/crs.py:131: FutureWarning: '+init=<authority>:<code>' syntax is deprecated. '<authority>:<code>' is the preferred initialization method. When making the change, be mindful of axis order changes: https://pyproj4.github.io/pyproj/stable/gotchas.html#axis-order-changes-in-proj-6\n",
      "  in_crs_string = _prepare_from_proj_string(in_crs_string)\n"
     ]
    },
    {
     "data": {
      "text/html": [
       "<div>\n",
       "<style scoped>\n",
       "    .dataframe tbody tr th:only-of-type {\n",
       "        vertical-align: middle;\n",
       "    }\n",
       "\n",
       "    .dataframe tbody tr th {\n",
       "        vertical-align: top;\n",
       "    }\n",
       "\n",
       "    .dataframe thead th {\n",
       "        text-align: right;\n",
       "    }\n",
       "</style>\n",
       "<table border=\"1\" class=\"dataframe\">\n",
       "  <thead>\n",
       "    <tr style=\"text-align: right;\">\n",
       "      <th></th>\n",
       "      <th>Region</th>\n",
       "      <th>District</th>\n",
       "      <th>FacilityName</th>\n",
       "      <th>Type</th>\n",
       "      <th>Town</th>\n",
       "      <th>Ownership</th>\n",
       "      <th>Latitude</th>\n",
       "      <th>Longitude</th>\n",
       "      <th>geometry</th>\n",
       "    </tr>\n",
       "  </thead>\n",
       "  <tbody>\n",
       "    <tr>\n",
       "      <th>0</th>\n",
       "      <td>Ashanti</td>\n",
       "      <td>Offinso North</td>\n",
       "      <td>A.M.E Zion Clinic</td>\n",
       "      <td>Clinic</td>\n",
       "      <td>Afrancho</td>\n",
       "      <td>CHAG</td>\n",
       "      <td>7.40801</td>\n",
       "      <td>-1.96317</td>\n",
       "      <td>POINT (-1.96317 7.40801)</td>\n",
       "    </tr>\n",
       "    <tr>\n",
       "      <th>1</th>\n",
       "      <td>Ashanti</td>\n",
       "      <td>Bekwai Municipal</td>\n",
       "      <td>Abenkyiman Clinic</td>\n",
       "      <td>Clinic</td>\n",
       "      <td>Anwiankwanta</td>\n",
       "      <td>Private</td>\n",
       "      <td>6.46312</td>\n",
       "      <td>-1.58592</td>\n",
       "      <td>POINT (-1.58592 6.46312)</td>\n",
       "    </tr>\n",
       "    <tr>\n",
       "      <th>2</th>\n",
       "      <td>Ashanti</td>\n",
       "      <td>Adansi North</td>\n",
       "      <td>Aboabo Health Centre</td>\n",
       "      <td>Health Centre</td>\n",
       "      <td>Aboabo No 2</td>\n",
       "      <td>Government</td>\n",
       "      <td>6.22393</td>\n",
       "      <td>-1.34982</td>\n",
       "      <td>POINT (-1.34982 6.22393)</td>\n",
       "    </tr>\n",
       "    <tr>\n",
       "      <th>3</th>\n",
       "      <td>Ashanti</td>\n",
       "      <td>Afigya-Kwabre</td>\n",
       "      <td>Aboabogya Health Centre</td>\n",
       "      <td>Health Centre</td>\n",
       "      <td>Aboabogya</td>\n",
       "      <td>Government</td>\n",
       "      <td>6.84177</td>\n",
       "      <td>-1.61098</td>\n",
       "      <td>POINT (-1.61098 6.84177)</td>\n",
       "    </tr>\n",
       "    <tr>\n",
       "      <th>4</th>\n",
       "      <td>Ashanti</td>\n",
       "      <td>Kwabre</td>\n",
       "      <td>Aboaso Health Centre</td>\n",
       "      <td>Health Centre</td>\n",
       "      <td>Aboaso</td>\n",
       "      <td>Government</td>\n",
       "      <td>6.84177</td>\n",
       "      <td>-1.61098</td>\n",
       "      <td>POINT (-1.61098 6.84177)</td>\n",
       "    </tr>\n",
       "  </tbody>\n",
       "</table>\n",
       "</div>"
      ],
      "text/plain": [
       "    Region          District             FacilityName           Type  \\\n",
       "0  Ashanti     Offinso North        A.M.E Zion Clinic         Clinic   \n",
       "1  Ashanti  Bekwai Municipal        Abenkyiman Clinic         Clinic   \n",
       "2  Ashanti      Adansi North     Aboabo Health Centre  Health Centre   \n",
       "3  Ashanti     Afigya-Kwabre  Aboabogya Health Centre  Health Centre   \n",
       "4  Ashanti            Kwabre     Aboaso Health Centre  Health Centre   \n",
       "\n",
       "           Town   Ownership  Latitude  Longitude                  geometry  \n",
       "0      Afrancho        CHAG   7.40801   -1.96317  POINT (-1.96317 7.40801)  \n",
       "1  Anwiankwanta     Private   6.46312   -1.58592  POINT (-1.58592 6.46312)  \n",
       "2   Aboabo No 2  Government   6.22393   -1.34982  POINT (-1.34982 6.22393)  \n",
       "3     Aboabogya  Government   6.84177   -1.61098  POINT (-1.61098 6.84177)  \n",
       "4        Aboaso  Government   6.84177   -1.61098  POINT (-1.61098 6.84177)  "
      ]
     },
     "execution_count": 5,
     "metadata": {},
     "output_type": "execute_result"
    }
   ],
   "source": [
    "# Create a DataFrame with health facilities in Ghana\n",
    "facilities_df = pd.read_csv(\"../geospatial_kaggle/ghana/ghana/health_facilities.csv\")\n",
    "\n",
    "# Convert the DataFrame to a GeoDataFrame\n",
    "facilities = gpd.GeoDataFrame(facilities_df, geometry=gpd.points_from_xy(facilities_df.Longitude, facilities_df.Latitude))\n",
    "\n",
    "# Set the coordinate reference system (CRS) to EPSG 4326\n",
    "facilities.crs = {'init':'epsg:4326'}\n",
    "\n",
    "# View the first five rows of the GeoDataFrame\n",
    "facilities.head()"
   ]
  },
  {
   "cell_type": "markdown",
   "id": "57da3cc7-bbf3-4b7a-afee-1e7154b64659",
   "metadata": {},
   "source": [
    "## Reprojecting"
   ]
  },
  {
   "cell_type": "code",
   "execution_count": 6,
   "id": "048dd1ca-9dc5-4af7-a82c-36fbb9622a5c",
   "metadata": {},
   "outputs": [
    {
     "data": {
      "text/plain": [
       "<AxesSubplot:>"
      ]
     },
     "execution_count": 6,
     "metadata": {},
     "output_type": "execute_result"
    },
    {
     "data": {
      "image/png": "[encoded data removed]",
      "text/plain": [
       "<Figure size 576x576 with 1 Axes>"
      ]
     },
     "metadata": {
      "needs_background": "light"
     },
     "output_type": "display_data"
    }
   ],
   "source": [
    "# Create a map\n",
    "ax = regions.plot(figsize=(8,8), color='whitesmoke', linestyle=':', edgecolor='black')\n",
    "facilities.to_crs(epsg=32630).plot(markersize=1, ax=ax)"
   ]
  },
  {
   "cell_type": "code",
   "execution_count": 7,
   "id": "e86ca467-e0fc-40ee-a3d8-f2583570e607",
   "metadata": {},
   "outputs": [
    {
     "data": {
      "text/html": [
       "<div>\n",
       "<style scoped>\n",
       "    .dataframe tbody tr th:only-of-type {\n",
       "        vertical-align: middle;\n",
       "    }\n",
       "\n",
       "    .dataframe tbody tr th {\n",
       "        vertical-align: top;\n",
       "    }\n",
       "\n",
       "    .dataframe thead th {\n",
       "        text-align: right;\n",
       "    }\n",
       "</style>\n",
       "<table border=\"1\" class=\"dataframe\">\n",
       "  <thead>\n",
       "    <tr style=\"text-align: right;\">\n",
       "      <th></th>\n",
       "      <th>Region</th>\n",
       "      <th>District</th>\n",
       "      <th>FacilityName</th>\n",
       "      <th>Type</th>\n",
       "      <th>Town</th>\n",
       "      <th>Ownership</th>\n",
       "      <th>Latitude</th>\n",
       "      <th>Longitude</th>\n",
       "      <th>geometry</th>\n",
       "    </tr>\n",
       "  </thead>\n",
       "  <tbody>\n",
       "    <tr>\n",
       "      <th>0</th>\n",
       "      <td>Ashanti</td>\n",
       "      <td>Offinso North</td>\n",
       "      <td>A.M.E Zion Clinic</td>\n",
       "      <td>Clinic</td>\n",
       "      <td>Afrancho</td>\n",
       "      <td>CHAG</td>\n",
       "      <td>7.40801</td>\n",
       "      <td>-1.96317</td>\n",
       "      <td>POINT (614422.662 818986.851)</td>\n",
       "    </tr>\n",
       "    <tr>\n",
       "      <th>1</th>\n",
       "      <td>Ashanti</td>\n",
       "      <td>Bekwai Municipal</td>\n",
       "      <td>Abenkyiman Clinic</td>\n",
       "      <td>Clinic</td>\n",
       "      <td>Anwiankwanta</td>\n",
       "      <td>Private</td>\n",
       "      <td>6.46312</td>\n",
       "      <td>-1.58592</td>\n",
       "      <td>POINT (656373.863 714616.547)</td>\n",
       "    </tr>\n",
       "    <tr>\n",
       "      <th>2</th>\n",
       "      <td>Ashanti</td>\n",
       "      <td>Adansi North</td>\n",
       "      <td>Aboabo Health Centre</td>\n",
       "      <td>Health Centre</td>\n",
       "      <td>Aboabo No 2</td>\n",
       "      <td>Government</td>\n",
       "      <td>6.22393</td>\n",
       "      <td>-1.34982</td>\n",
       "      <td>POINT (682573.395 688243.477)</td>\n",
       "    </tr>\n",
       "    <tr>\n",
       "      <th>3</th>\n",
       "      <td>Ashanti</td>\n",
       "      <td>Afigya-Kwabre</td>\n",
       "      <td>Aboabogya Health Centre</td>\n",
       "      <td>Health Centre</td>\n",
       "      <td>Aboabogya</td>\n",
       "      <td>Government</td>\n",
       "      <td>6.84177</td>\n",
       "      <td>-1.61098</td>\n",
       "      <td>POINT (653484.490 756478.812)</td>\n",
       "    </tr>\n",
       "    <tr>\n",
       "      <th>4</th>\n",
       "      <td>Ashanti</td>\n",
       "      <td>Kwabre</td>\n",
       "      <td>Aboaso Health Centre</td>\n",
       "      <td>Health Centre</td>\n",
       "      <td>Aboaso</td>\n",
       "      <td>Government</td>\n",
       "      <td>6.84177</td>\n",
       "      <td>-1.61098</td>\n",
       "      <td>POINT (653484.490 756478.812)</td>\n",
       "    </tr>\n",
       "  </tbody>\n",
       "</table>\n",
       "</div>"
      ],
      "text/plain": [
       "    Region          District             FacilityName           Type  \\\n",
       "0  Ashanti     Offinso North        A.M.E Zion Clinic         Clinic   \n",
       "1  Ashanti  Bekwai Municipal        Abenkyiman Clinic         Clinic   \n",
       "2  Ashanti      Adansi North     Aboabo Health Centre  Health Centre   \n",
       "3  Ashanti     Afigya-Kwabre  Aboabogya Health Centre  Health Centre   \n",
       "4  Ashanti            Kwabre     Aboaso Health Centre  Health Centre   \n",
       "\n",
       "           Town   Ownership  Latitude  Longitude  \\\n",
       "0      Afrancho        CHAG   7.40801   -1.96317   \n",
       "1  Anwiankwanta     Private   6.46312   -1.58592   \n",
       "2   Aboabo No 2  Government   6.22393   -1.34982   \n",
       "3     Aboabogya  Government   6.84177   -1.61098   \n",
       "4        Aboaso  Government   6.84177   -1.61098   \n",
       "\n",
       "                        geometry  \n",
       "0  POINT (614422.662 818986.851)  \n",
       "1  POINT (656373.863 714616.547)  \n",
       "2  POINT (682573.395 688243.477)  \n",
       "3  POINT (653484.490 756478.812)  \n",
       "4  POINT (653484.490 756478.812)  "
      ]
     },
     "execution_count": 7,
     "metadata": {},
     "output_type": "execute_result"
    }
   ],
   "source": [
    "# The \"Latitude\" and \"Longitude\" columns are unchanged\n",
    "facilities.to_crs(epsg=32630).head()"
   ]
  },
  {
   "cell_type": "code",
   "execution_count": 8,
   "id": "a5bb782d-5e19-4c20-b71d-e0aba5b138d6",
   "metadata": {},
   "outputs": [
    {
     "data": {
      "text/html": [
       "<div>\n",
       "<style scoped>\n",
       "    .dataframe tbody tr th:only-of-type {\n",
       "        vertical-align: middle;\n",
       "    }\n",
       "\n",
       "    .dataframe tbody tr th {\n",
       "        vertical-align: top;\n",
       "    }\n",
       "\n",
       "    .dataframe thead th {\n",
       "        text-align: right;\n",
       "    }\n",
       "</style>\n",
       "<table border=\"1\" class=\"dataframe\">\n",
       "  <thead>\n",
       "    <tr style=\"text-align: right;\">\n",
       "      <th></th>\n",
       "      <th>Region</th>\n",
       "      <th>geometry</th>\n",
       "    </tr>\n",
       "  </thead>\n",
       "  <tbody>\n",
       "    <tr>\n",
       "      <th>0</th>\n",
       "      <td>Ashanti</td>\n",
       "      <td>POLYGON ((-1.30985 7.62302, -1.30786 7.62198, ...</td>\n",
       "    </tr>\n",
       "    <tr>\n",
       "      <th>1</th>\n",
       "      <td>Brong Ahafo</td>\n",
       "      <td>POLYGON ((-2.54567 8.76089, -2.54473 8.76071, ...</td>\n",
       "    </tr>\n",
       "    <tr>\n",
       "      <th>2</th>\n",
       "      <td>Central</td>\n",
       "      <td>POLYGON ((-2.06723 6.29473, -2.06658 6.29420, ...</td>\n",
       "    </tr>\n",
       "    <tr>\n",
       "      <th>3</th>\n",
       "      <td>Eastern</td>\n",
       "      <td>POLYGON ((-0.21751 7.21009, -0.21747 7.20993, ...</td>\n",
       "    </tr>\n",
       "    <tr>\n",
       "      <th>4</th>\n",
       "      <td>Greater Accra</td>\n",
       "      <td>POLYGON ((0.23456 6.10986, 0.23484 6.10974, 0....</td>\n",
       "    </tr>\n",
       "  </tbody>\n",
       "</table>\n",
       "</div>"
      ],
      "text/plain": [
       "          Region                                           geometry\n",
       "0        Ashanti  POLYGON ((-1.30985 7.62302, -1.30786 7.62198, ...\n",
       "1    Brong Ahafo  POLYGON ((-2.54567 8.76089, -2.54473 8.76071, ...\n",
       "2        Central  POLYGON ((-2.06723 6.29473, -2.06658 6.29420, ...\n",
       "3        Eastern  POLYGON ((-0.21751 7.21009, -0.21747 7.20993, ...\n",
       "4  Greater Accra  POLYGON ((0.23456 6.10986, 0.23484 6.10974, 0...."
      ]
     },
     "execution_count": 8,
     "metadata": {},
     "output_type": "execute_result"
    }
   ],
   "source": [
    "# Change the CRS to EPSG 4326\n",
    "regions.to_crs(\"+proj=longlat +ellps=WGS84 +datum=WGS84 +no_defs\").head()"
   ]
  },
  {
   "cell_type": "markdown",
   "id": "7939a531-5b00-44db-bf0b-62b4dcfae4b1",
   "metadata": {},
   "source": [
    "## Attributes of geometric objects"
   ]
  },
  {
   "cell_type": "markdown",
   "id": "ac5536f1-22ca-43f8-a445-b528739445f5",
   "metadata": {},
   "source": [
    "the type in the \"geometry\" column depends on what we are trying to show: for instance, we might use:\n",
    "\n",
    "a Point for the epicenter of an earthquake,\n",
    "\n",
    "a LineString for a street, or\n",
    "\n",
    "a Polygon to show country boundaries.\n",
    "\n",
    "\n",
    "All three types of geometric objects have built-in attributes that you can use to quickly analyze the dataset. For instance, you can get the x- and y-coordinates of a Point from the x and y attributes, respectively."
   ]
  },
  {
   "cell_type": "code",
   "execution_count": 10,
   "id": "12de9b4d-2bfc-4a7d-a1f1-b7e0e5656eae",
   "metadata": {},
   "outputs": [
    {
     "data": {
      "text/plain": [
       "0   -1.96317\n",
       "1   -1.58592\n",
       "2   -1.34982\n",
       "3   -1.61098\n",
       "4   -1.61098\n",
       "dtype: float64"
      ]
     },
     "execution_count": 10,
     "metadata": {},
     "output_type": "execute_result"
    }
   ],
   "source": [
    "# Get the x-coordinate of each point\n",
    "facilities.geometry.head().x"
   ]
  },
  {
   "cell_type": "code",
   "execution_count": 11,
   "id": "f034f179-e1cb-4927-bfc4-7f0845610191",
   "metadata": {},
   "outputs": [
    {
     "name": "stdout",
     "output_type": "stream",
     "text": [
      "Area of Ghana: 239584.5760055668 sq km\n",
      "CRS: epsg:32630\n"
     ]
    },
    {
     "data": {
      "text/html": [
       "<div>\n",
       "<style scoped>\n",
       "    .dataframe tbody tr th:only-of-type {\n",
       "        vertical-align: middle;\n",
       "    }\n",
       "\n",
       "    .dataframe tbody tr th {\n",
       "        vertical-align: top;\n",
       "    }\n",
       "\n",
       "    .dataframe thead th {\n",
       "        text-align: right;\n",
       "    }\n",
       "</style>\n",
       "<table border=\"1\" class=\"dataframe\">\n",
       "  <thead>\n",
       "    <tr style=\"text-align: right;\">\n",
       "      <th></th>\n",
       "      <th>Region</th>\n",
       "      <th>geometry</th>\n",
       "      <th>AREA</th>\n",
       "    </tr>\n",
       "  </thead>\n",
       "  <tbody>\n",
       "    <tr>\n",
       "      <th>0</th>\n",
       "      <td>Ashanti</td>\n",
       "      <td>POLYGON ((686446.075 842986.894, 686666.193 84...</td>\n",
       "      <td>24379.017777</td>\n",
       "    </tr>\n",
       "    <tr>\n",
       "      <th>1</th>\n",
       "      <td>Brong Ahafo</td>\n",
       "      <td>POLYGON ((549970.457 968447.094, 550073.003 96...</td>\n",
       "      <td>40098.168231</td>\n",
       "    </tr>\n",
       "    <tr>\n",
       "      <th>2</th>\n",
       "      <td>Central</td>\n",
       "      <td>POLYGON ((603176.584 695877.238, 603248.424 69...</td>\n",
       "      <td>9665.626760</td>\n",
       "    </tr>\n",
       "    <tr>\n",
       "      <th>3</th>\n",
       "      <td>Eastern</td>\n",
       "      <td>POLYGON ((807307.254 797910.553, 807311.908 79...</td>\n",
       "      <td>18987.625847</td>\n",
       "    </tr>\n",
       "    <tr>\n",
       "      <th>4</th>\n",
       "      <td>Greater Accra</td>\n",
       "      <td>POLYGON ((858081.638 676424.913, 858113.115 67...</td>\n",
       "      <td>3706.511145</td>\n",
       "    </tr>\n",
       "  </tbody>\n",
       "</table>\n",
       "</div>"
      ],
      "text/plain": [
       "          Region                                           geometry  \\\n",
       "0        Ashanti  POLYGON ((686446.075 842986.894, 686666.193 84...   \n",
       "1    Brong Ahafo  POLYGON ((549970.457 968447.094, 550073.003 96...   \n",
       "2        Central  POLYGON ((603176.584 695877.238, 603248.424 69...   \n",
       "3        Eastern  POLYGON ((807307.254 797910.553, 807311.908 79...   \n",
       "4  Greater Accra  POLYGON ((858081.638 676424.913, 858113.115 67...   \n",
       "\n",
       "           AREA  \n",
       "0  24379.017777  \n",
       "1  40098.168231  \n",
       "2   9665.626760  \n",
       "3  18987.625847  \n",
       "4   3706.511145  "
      ]
     },
     "execution_count": 11,
     "metadata": {},
     "output_type": "execute_result"
    }
   ],
   "source": [
    "# Calculate the area (in square meters) of each polygon in the GeoDataFrame \n",
    "regions.loc[:, \"AREA\"] = regions.geometry.area / 10**6\n",
    "\n",
    "print(\"Area of Ghana: {} sq km\".format(regions.AREA.sum()))\n",
    "print(\"CRS:\", regions.crs)\n",
    "regions.head()"
   ]
  },
  {
   "cell_type": "markdown",
   "id": "76e4ef60-3e3d-4422-8fed-d45aaf4adb07",
   "metadata": {},
   "source": [
    "In the code cell above, since the CRS of the regions GeoDataFrame is set to EPSG 32630 (a \"Mercator\" projection), the area calculation is slightly less accurate than if we had used an equal-area projection like \"Africa Albers Equal Area Conic\"."
   ]
  },
  {
   "cell_type": "code",
   "execution_count": null,
   "id": "02d2c1ad-ba04-4f1f-b332-8f69a20a363e",
   "metadata": {},
   "outputs": [],
   "source": []
  }
 ],
 "metadata": {
  "kernelspec": {
   "display_name": "Python 3 (ipykernel)",
   "language": "python",
   "name": "python3"
  },
  "language_info": {
   "codemirror_mode": {
    "name": "ipython",
    "version": 3
   },
   "file_extension": ".py",
   "mimetype": "text/x-python",
   "name": "python",
   "nbconvert_exporter": "python",
   "pygments_lexer": "ipython3",
   "version": "3.8.12"
  }
 },
 "nbformat": 4,
 "nbformat_minor": 5
}
